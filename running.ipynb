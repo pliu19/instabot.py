{
 "cells": [
  {
   "cell_type": "code",
   "execution_count": 1,
   "metadata": {
    "collapsed": true
   },
   "outputs": [],
   "source": [
    "#!/usr/bin/env python\n",
    "# -*- coding: utf-8 -*-\n",
    "import os\n",
    "import sys\n",
    "import time\n",
    "\n",
    "sys.path.append(os.path.join(sys.path[0], 'src'))\n",
    "\n",
    "from check_status import check_status\n",
    "from feed_scanner import feed_scanner\n",
    "from follow_protocol import follow_protocol\n",
    "from instabot import InstaBot\n",
    "from unfollow_protocol import unfollow_protocol"
   ]
  },
  {
   "cell_type": "code",
   "execution_count": null,
   "metadata": {
    "collapsed": true
   },
   "outputs": [],
   "source": [
    "# Fashion hashtags \n",
    "\n",
    "# #ootd #fashionblogger #ontrend #chictopia #aboutalook"
   ]
  },
  {
   "cell_type": "code",
   "execution_count": 3,
   "metadata": {
    "collapsed": false
   },
   "outputs": [
    {
     "name": "stdout",
     "output_type": "stream",
     "text": [
      "Instabot v1.1.0 started at 04.01.2018 17:22:\n",
      "\n",
      "Trying to login as blogger.life.usa...\n",
      "\n",
      "blogger.life.usa login success!\n"
     ]
    }
   ],
   "source": [
    "bot = InstaBot(\n",
    "    login=\"blogger.life.usa\",\n",
    "    password=\"liuping373\",\n",
    "    like_per_day=1000,\n",
    "    comments_per_day=0,\n",
    "    tag_list=['fashionblogger', 'ontrend', 'chictopia', 'aboutalook'],\n",
    "    tag_blacklist=['rain', 'thunderstorm'],\n",
    "    user_blacklist={},\n",
    "    max_like_for_one_tag=50,\n",
    "    follow_per_day=300,\n",
    "    follow_time=1 * 60,\n",
    "    unfollow_per_day=250,\n",
    "    unfollow_break_min=15,\n",
    "    unfollow_break_max=30,\n",
    "    log_mod=0,\n",
    "    proxy='',\n",
    "    # List of list of words, each of which will be used to generate comment\n",
    "    # For example: \"This shot feels wow!\"\n",
    "    comment_list=[[\"this\", \"the\", \"your\"],\n",
    "                  [\"photo\", \"picture\", \"pic\", \"shot\", \"snapshot\"],\n",
    "                  [\"is\", \"looks\", \"feels\", \"is really\"],\n",
    "                  [\"great\", \"super\", \"good\", \"very good\", \"good\", \"wow\",\n",
    "                   \"WOW\", \"cool\", \"GREAT\",\"magnificent\", \"magical\",\n",
    "                   \"very cool\", \"stylish\", \"beautiful\", \"so beautiful\",\n",
    "                   \"so stylish\", \"so professional\", \"lovely\",\n",
    "                   \"so lovely\", \"very lovely\", \"glorious\",\"so glorious\",\n",
    "                   \"very glorious\", \"adorable\", \"excellent\", \"amazing\"],\n",
    "                  [\".\", \"..\", \"...\", \"!\", \"!!\", \"!!!\"]],\n",
    "    # Use unwanted_username_list to block usernames containing a string\n",
    "    ## Will do partial matches; i.e. 'mozart' will block 'legend_mozart'\n",
    "    ### 'free_followers' will be blocked because it contains 'free'\n",
    "    unwanted_username_list=[\n",
    "        'second', 'stuff', 'art', 'project', 'love', 'life', 'food', 'blog',\n",
    "        'free', 'keren', 'photo', 'graphy', 'indo', 'travel', 'art', 'shop',\n",
    "        'store', 'sex', 'toko', 'jual', 'online', 'murah', 'jam', 'kaos',\n",
    "        'case', 'baju', 'fashion', 'corp', 'tas', 'butik', 'grosir', 'karpet',\n",
    "        'sosis', 'salon', 'skin', 'care', 'cloth', 'tech', 'rental', 'kamera',\n",
    "        'beauty', 'express', 'kredit', 'collection', 'impor', 'preloved',\n",
    "        'follow', 'follower', 'gain', '.id', '_id', 'bags'\n",
    "    ],\n",
    "    unfollow_whitelist=['example_user_1', 'example_user_2'])"
   ]
  },
  {
   "cell_type": "code",
   "execution_count": 4,
   "metadata": {
    "collapsed": false
   },
   "outputs": [
    {
     "name": "stdout",
     "output_type": "stream",
     "text": [
      "Get media id by tag: cute\n",
      "Except on get_media!\n",
      "Get media id by tag: f4f\n",
      "Except on get_media!\n",
      "Get media id by tag: f4f\n",
      "Except on get_media!\n",
      "Get media id by tag: follow4follow\n",
      "Except on get_media!\n"
     ]
    },
    {
     "ename": "KeyboardInterrupt",
     "evalue": "",
     "output_type": "error",
     "traceback": [
      "\u001b[0;31m---------------------------------------------------------------------------\u001b[0m",
      "\u001b[0;31mKeyboardInterrupt\u001b[0m                         Traceback (most recent call last)",
      "\u001b[0;32m<ipython-input-4-eb5bae342a03>\u001b[0m in \u001b[0;36m<module>\u001b[0;34m()\u001b[0m\n\u001b[1;32m     22\u001b[0m \u001b[1;33m\u001b[0m\u001b[0m\n\u001b[1;32m     23\u001b[0m     \u001b[1;32mif\u001b[0m \u001b[0mmode\u001b[0m \u001b[1;33m==\u001b[0m \u001b[1;36m0\u001b[0m\u001b[1;33m:\u001b[0m\u001b[1;33m\u001b[0m\u001b[0m\n\u001b[0;32m---> 24\u001b[0;31m         \u001b[0mbot\u001b[0m\u001b[1;33m.\u001b[0m\u001b[0mnew_auto_mod\u001b[0m\u001b[1;33m(\u001b[0m\u001b[1;33m)\u001b[0m\u001b[1;33m\u001b[0m\u001b[0m\n\u001b[0m\u001b[1;32m     25\u001b[0m \u001b[1;33m\u001b[0m\u001b[0m\n\u001b[1;32m     26\u001b[0m     \u001b[1;32melif\u001b[0m \u001b[0mmode\u001b[0m \u001b[1;33m==\u001b[0m \u001b[1;36m1\u001b[0m\u001b[1;33m:\u001b[0m\u001b[1;33m\u001b[0m\u001b[0m\n",
      "\u001b[0;32mC:\\Users\\pliu1\\Dropbox\\Pycharm\\instabot.py\\src\\instabot.py\u001b[0m in \u001b[0;36mnew_auto_mod\u001b[0;34m(self)\u001b[0m\n\u001b[1;32m    582\u001b[0m             \u001b[0mself\u001b[0m\u001b[1;33m.\u001b[0m\u001b[0mnew_auto_mod_comments\u001b[0m\u001b[1;33m(\u001b[0m\u001b[1;33m)\u001b[0m\u001b[1;33m\u001b[0m\u001b[0m\n\u001b[1;32m    583\u001b[0m             \u001b[1;31m# Bot iteration in 1 sec\u001b[0m\u001b[1;33m\u001b[0m\u001b[1;33m\u001b[0m\u001b[0m\n\u001b[0;32m--> 584\u001b[0;31m             \u001b[0mtime\u001b[0m\u001b[1;33m.\u001b[0m\u001b[0msleep\u001b[0m\u001b[1;33m(\u001b[0m\u001b[1;36m3\u001b[0m\u001b[1;33m)\u001b[0m\u001b[1;33m\u001b[0m\u001b[0m\n\u001b[0m\u001b[1;32m    585\u001b[0m             \u001b[1;31m# print(\"Tic!\")\u001b[0m\u001b[1;33m\u001b[0m\u001b[1;33m\u001b[0m\u001b[0m\n\u001b[1;32m    586\u001b[0m \u001b[1;33m\u001b[0m\u001b[0m\n",
      "\u001b[0;31mKeyboardInterrupt\u001b[0m: "
     ]
    }
   ],
   "source": [
    "while True:\n",
    "\n",
    "    #print(\"# MODE 0 = ORIGINAL MODE BY LEVPASHA\")\n",
    "    #print(\"## MODE 1 = MODIFIED MODE BY KEMONG\")\n",
    "    #print(\"### MODE 2 = ORIGINAL MODE + UNFOLLOW WHO DON'T FOLLOW BACK\")\n",
    "    #print(\"#### MODE 3 = MODIFIED MODE : UNFOLLOW USERS WHO DON'T FOLLOW YOU BASED ON RECENT FEED\")\n",
    "    #print(\"##### MODE 4 = MODIFIED MODE : FOLLOW USERS BASED ON RECENT FEED ONLY\")\n",
    "    #print(\"###### MODE 5 = MODIFIED MODE : JUST UNFOLLOW EVERYBODY, EITHER YOUR FOLLOWER OR NOT\")\n",
    "\n",
    "    ################################\n",
    "    ##  WARNING   ###\n",
    "    ################################\n",
    "\n",
    "    # DON'T USE MODE 5 FOR A LONG PERIOD. YOU RISK YOUR ACCOUNT FROM GETTING BANNED\n",
    "    ## USE MODE 5 IN BURST MODE, USE IT TO UNFOLLOW PEOPLE AS MANY AS YOU WANT IN SHORT TIME PERIOD\n",
    "\n",
    "    mode = 0\n",
    "\n",
    "    #print(\"You choose mode : %i\" %(mode))\n",
    "    #print(\"CTRL + C to cancel this operation or wait 30 seconds to start\")\n",
    "    #time.sleep(30)\n",
    "\n",
    "    if mode == 0:\n",
    "        bot.new_auto_mod()\n",
    "\n",
    "    elif mode == 1:\n",
    "        check_status(bot)\n",
    "        while bot.self_following - bot.self_follower > 200:\n",
    "            unfollow_protocol(bot)\n",
    "            time.sleep(10 * 60)\n",
    "            check_status(bot)\n",
    "        while bot.self_following - bot.self_follower < 400:\n",
    "            while len(bot.user_info_list) < 50:\n",
    "                feed_scanner(bot)\n",
    "                time.sleep(5 * 60)\n",
    "                follow_protocol(bot)\n",
    "                time.sleep(10 * 60)\n",
    "                check_status(bot)\n",
    "\n",
    "    elif mode == 2:\n",
    "        bot.bot_mode = 1\n",
    "        bot.new_auto_mod()\n",
    "\n",
    "    elif mode == 3:\n",
    "        unfollow_protocol(bot)\n",
    "        time.sleep(10 * 60)\n",
    "\n",
    "    elif mode == 4:\n",
    "        feed_scanner(bot)\n",
    "        time.sleep(60)\n",
    "        follow_protocol(bot)\n",
    "        time.sleep(10 * 60)\n",
    "\n",
    "    elif mode == 5:\n",
    "        bot.bot_mode = 2\n",
    "        unfollow_protocol(bot)\n",
    "\n",
    "    else:\n",
    "        print(\"Wrong mode!\")\n"
   ]
  },
  {
   "cell_type": "code",
   "execution_count": null,
   "metadata": {
    "collapsed": true
   },
   "outputs": [],
   "source": []
  }
 ],
 "metadata": {
  "anaconda-cloud": {},
  "kernelspec": {
   "display_name": "Python [conda env:Anaconda3]",
   "language": "python",
   "name": "conda-env-Anaconda3-py"
  },
  "language_info": {
   "codemirror_mode": {
    "name": "ipython",
    "version": 3
   },
   "file_extension": ".py",
   "mimetype": "text/x-python",
   "name": "python",
   "nbconvert_exporter": "python",
   "pygments_lexer": "ipython3",
   "version": "3.5.2"
  }
 },
 "nbformat": 4,
 "nbformat_minor": 1
}
