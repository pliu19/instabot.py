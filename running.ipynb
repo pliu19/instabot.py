{
 "cells": [
  {
   "cell_type": "code",
   "execution_count": 1,
   "metadata": {
    "collapsed": true
   },
   "outputs": [],
   "source": [
    "#!/usr/bin/env python\n",
    "# -*- coding: utf-8 -*-\n",
    "import os\n",
    "import sys\n",
    "import time\n",
    "\n",
    "sys.path.append(os.path.join(sys.path[0], 'src'))\n",
    "\n",
    "from check_status import check_status\n",
    "from feed_scanner import feed_scanner\n",
    "from follow_protocol import follow_protocol\n",
    "from instabot import InstaBot\n",
    "from unfollow_protocol import unfollow_protocol"
   ]
  },
  {
   "cell_type": "code",
   "execution_count": 2,
   "metadata": {
    "collapsed": true
   },
   "outputs": [],
   "source": [
    "# Fashion hashtags \n",
    "\n",
    "# #ootd #fashionblogger #ontrend #chictopia #aboutalook"
   ]
  },
  {
   "cell_type": "code",
   "execution_count": null,
   "metadata": {
    "collapsed": false
   },
   "outputs": [
    {
     "name": "stdout",
     "output_type": "stream",
     "text": [
      "Instabot v1.1.0 started at 10.01.2018 23:11:\n",
      "\n",
      "Trying to login as blogger.life.usa...\n",
      "\n",
      "blogger.life.usa login success!\n"
     ]
    }
   ],
   "source": [
    "bot = InstaBot(\n",
    "    login=\"blogger.life.usa\",\n",
    "    password=\"liuping373\",\n",
    "    like_per_day=1000,\n",
    "    comments_per_day=0,\n",
    "    tag_list=['fashionblogger', 'ontrend', 'chictopia', 'aboutalook'],\n",
    "    tag_blacklist=['rain', 'thunderstorm'],\n",
    "    user_blacklist={},\n",
    "    max_like_for_one_tag=50,\n",
    "    follow_per_day=300,\n",
    "    follow_time=1 * 60,\n",
    "    unfollow_per_day=250,\n",
    "    unfollow_break_min=15,\n",
    "    unfollow_break_max=30,\n",
    "    log_mod=0,\n",
    "    proxy='',\n",
    "    # List of list of words, each of which will be used to generate comment\n",
    "    # For example: \"This shot feels wow!\"\n",
    "    comment_list=[[\"this\", \"the\", \"your\"],\n",
    "                  [\"photo\", \"picture\", \"pic\", \"shot\", \"snapshot\"],\n",
    "                  [\"is\", \"looks\", \"feels\", \"is really\"],\n",
    "                  [\"great\", \"super\", \"good\", \"very good\", \"good\", \"wow\",\n",
    "                   \"WOW\", \"cool\", \"GREAT\",\"magnificent\", \"magical\",\n",
    "                   \"very cool\", \"stylish\", \"beautiful\", \"so beautiful\",\n",
    "                   \"so stylish\", \"so professional\", \"lovely\",\n",
    "                   \"so lovely\", \"very lovely\", \"glorious\",\"so glorious\",\n",
    "                   \"very glorious\", \"adorable\", \"excellent\", \"amazing\"],\n",
    "                  [\".\", \"..\", \"...\", \"!\", \"!!\", \"!!!\"]],\n",
    "    # Use unwanted_username_list to block usernames containing a string\n",
    "    ## Will do partial matches; i.e. 'mozart' will block 'legend_mozart'\n",
    "    ### 'free_followers' will be blocked because it contains 'free'\n",
    "    unwanted_username_list=[\n",
    "        'second', 'stuff', 'art', 'project', 'love', 'life', 'food', 'blog',\n",
    "        'free', 'keren', 'photo', 'graphy', 'indo', 'travel', 'art', 'shop',\n",
    "        'store', 'sex', 'toko', 'jual', 'online', 'murah', 'jam', 'kaos',\n",
    "        'case', 'baju', 'fashion', 'corp', 'tas', 'butik', 'grosir', 'karpet',\n",
    "        'sosis', 'salon', 'skin', 'care', 'cloth', 'tech', 'rental', 'kamera',\n",
    "        'beauty', 'express', 'kredit', 'collection', 'impor', 'preloved',\n",
    "        'follow', 'follower', 'gain', '.id', '_id', 'bags'\n",
    "    ],\n",
    "    unfollow_whitelist=['example_user_1', 'example_user_2'])"
   ]
  },
  {
   "cell_type": "code",
   "execution_count": null,
   "metadata": {
    "collapsed": false
   },
   "outputs": [
    {
     "name": "stdout",
     "output_type": "stream",
     "text": [
      "Get media id by tag: chictopia\n",
      "Trying to follow: 53321424\n",
      "Followed: 53321424 #1.\n",
      "Trying to like media: 1689689439540164895\n",
      "Liked: 1689689439540164895. Like #1.\n"
     ]
    }
   ],
   "source": [
    "while True:\n",
    "\n",
    "    #print(\"# MODE 0 = ORIGINAL MODE BY LEVPASHA\")\n",
    "    #print(\"## MODE 1 = MODIFIED MODE BY KEMONG\")\n",
    "    #print(\"### MODE 2 = ORIGINAL MODE + UNFOLLOW WHO DON'T FOLLOW BACK\")\n",
    "    #print(\"#### MODE 3 = MODIFIED MODE : UNFOLLOW USERS WHO DON'T FOLLOW YOU BASED ON RECENT FEED\")\n",
    "    #print(\"##### MODE 4 = MODIFIED MODE : FOLLOW USERS BASED ON RECENT FEED ONLY\")\n",
    "    #print(\"###### MODE 5 = MODIFIED MODE : JUST UNFOLLOW EVERYBODY, EITHER YOUR FOLLOWER OR NOT\")\n",
    "\n",
    "    ################################\n",
    "    ##  WARNING   ###\n",
    "    ################################\n",
    "\n",
    "    # DON'T USE MODE 5 FOR A LONG PERIOD. YOU RISK YOUR ACCOUNT FROM GETTING BANNED\n",
    "    ## USE MODE 5 IN BURST MODE, USE IT TO UNFOLLOW PEOPLE AS MANY AS YOU WANT IN SHORT TIME PERIOD\n",
    "\n",
    "    mode = 0\n",
    "\n",
    "    #print(\"You choose mode : %i\" %(mode))\n",
    "    #print(\"CTRL + C to cancel this operation or wait 30 seconds to start\")\n",
    "    #time.sleep(30)\n",
    "\n",
    "    if mode == 0:\n",
    "        bot.new_auto_mod()\n",
    "\n",
    "    elif mode == 1:\n",
    "        check_status(bot)\n",
    "        while bot.self_following - bot.self_follower > 200:\n",
    "            unfollow_protocol(bot)\n",
    "            time.sleep(10 * 60)\n",
    "            check_status(bot)\n",
    "        while bot.self_following - bot.self_follower < 400:\n",
    "            while len(bot.user_info_list) < 50:\n",
    "                feed_scanner(bot)\n",
    "                time.sleep(5 * 60)\n",
    "                follow_protocol(bot)\n",
    "                time.sleep(10 * 60)\n",
    "                check_status(bot)\n",
    "\n",
    "    elif mode == 2:\n",
    "        bot.bot_mode = 1\n",
    "        bot.new_auto_mod()\n",
    "\n",
    "    elif mode == 3:\n",
    "        unfollow_protocol(bot)\n",
    "        time.sleep(10 * 60)\n",
    "\n",
    "    elif mode == 4:\n",
    "        feed_scanner(bot)\n",
    "        time.sleep(60)\n",
    "        follow_protocol(bot)\n",
    "        time.sleep(10 * 60)\n",
    "\n",
    "    elif mode == 5:\n",
    "        bot.bot_mode = 2\n",
    "        unfollow_protocol(bot)\n",
    "\n",
    "    else:\n",
    "        print(\"Wrong mode!\")\n"
   ]
  },
  {
   "cell_type": "code",
   "execution_count": null,
   "metadata": {
    "collapsed": true
   },
   "outputs": [],
   "source": []
  },
  {
   "cell_type": "code",
   "execution_count": null,
   "metadata": {
    "collapsed": true
   },
   "outputs": [],
   "source": []
  }
 ],
 "metadata": {
  "anaconda-cloud": {},
  "kernelspec": {
   "display_name": "Python [conda root]",
   "language": "python",
   "name": "conda-root-py"
  }
 },
 "nbformat": 4,
 "nbformat_minor": 1
}
